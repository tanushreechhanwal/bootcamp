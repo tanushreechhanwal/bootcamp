{
 "cells": [
  {
   "cell_type": "code",
   "execution_count": 6,
   "id": "9a8a49fd-e762-4507-a6aa-0a83eae1114f",
   "metadata": {},
   "outputs": [
    {
     "name": "stdout",
     "output_type": "stream",
     "text": [
      "        StudentID          G1          G2          G3         age  studytime  \\\n",
      "count  100.000000  100.000000  100.000000  100.000000  100.000000  100.00000   \n",
      "mean    50.500000    9.010000    8.710000    9.070000   18.180000    2.21000   \n",
      "std     29.011492    5.535003    6.107282    6.629068    1.940426    1.06643   \n",
      "min      1.000000    0.000000    0.000000    0.000000   15.000000    1.00000   \n",
      "25%     25.750000    4.750000    3.750000    2.000000   16.750000    1.00000   \n",
      "50%     50.500000    8.500000    8.000000    8.000000   18.000000    2.00000   \n",
      "75%     75.250000   14.000000   14.000000   15.000000   20.000000    3.00000   \n",
      "max    100.000000   19.000000   19.000000   19.000000   21.000000    4.00000   \n",
      "\n",
      "         failures  \n",
      "count  100.000000  \n",
      "mean     1.380000  \n",
      "std      1.080404  \n",
      "min      0.000000  \n",
      "25%      0.000000  \n",
      "50%      1.000000  \n",
      "75%      2.000000  \n",
      "max      3.000000  \n"
     ]
    }
   ],
   "source": [
    "import pandas as pd   \n",
    "file = \"Student_preference.csv\"\n",
    "df = pd.read_csv(file)\n",
    "print(df.describe())\n"
   ]
  },
  {
   "cell_type": "code",
   "execution_count": null,
   "id": "6a3baa1f-bd2a-41db-8197-c21e29278286",
   "metadata": {},
   "outputs": [],
   "source": []
  }
 ],
 "metadata": {
  "kernelspec": {
   "display_name": "Python [conda env:base] *",
   "language": "python",
   "name": "conda-base-py"
  },
  "language_info": {
   "codemirror_mode": {
    "name": "ipython",
    "version": 3
   },
   "file_extension": ".py",
   "mimetype": "text/x-python",
   "name": "python",
   "nbconvert_exporter": "python",
   "pygments_lexer": "ipython3",
   "version": "3.12.7"
  }
 },
 "nbformat": 4,
 "nbformat_minor": 5
}
