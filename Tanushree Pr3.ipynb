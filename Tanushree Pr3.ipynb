{
 "cells": [
  {
   "cell_type": "code",
   "execution_count": 2,
   "id": "e4c6a3a2-71ae-415b-b3e1-87b97f8cdd64",
   "metadata": {},
   "outputs": [
    {
     "name": "stdout",
     "output_type": "stream",
     "text": [
      "Number of rows with missing data: 0\n"
     ]
    }
   ],
   "source": [
    "import pandas as pd\n",
    "std = \"Student_preference.csv\"\n",
    "df = pd.read_csv(std)\n",
    "missing_rows_count = df.isnull().any(axis=1).sum()\n",
    "print(f\"Number of rows with missing data: {missing_rows_count}\")"
   ]
  },
  {
   "cell_type": "code",
   "execution_count": null,
   "id": "b52bbcdb-bea2-46e9-a190-3e7f61cc5e2b",
   "metadata": {},
   "outputs": [],
   "source": []
  }
 ],
 "metadata": {
  "kernelspec": {
   "display_name": "Python [conda env:base] *",
   "language": "python",
   "name": "conda-base-py"
  },
  "language_info": {
   "codemirror_mode": {
    "name": "ipython",
    "version": 3
   },
   "file_extension": ".py",
   "mimetype": "text/x-python",
   "name": "python",
   "nbconvert_exporter": "python",
   "pygments_lexer": "ipython3",
   "version": "3.12.7"
  }
 },
 "nbformat": 4,
 "nbformat_minor": 5
}
