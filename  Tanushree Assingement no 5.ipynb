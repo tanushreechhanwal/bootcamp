{
 "cells": [
  {
   "cell_type": "code",
   "execution_count": 1,
   "id": "632ff7c6-47c3-4f73-bc22-f9beb2f87b63",
   "metadata": {},
   "outputs": [
    {
     "name": "stdout",
     "output_type": "stream",
     "text": [
      "Requirement already satisfied: nltk in c:\\users\\admin\\anaconda3\\lib\\site-packages (3.9.1)\n",
      "Requirement already satisfied: click in c:\\users\\admin\\anaconda3\\lib\\site-packages (from nltk) (8.1.7)\n",
      "Requirement already satisfied: joblib in c:\\users\\admin\\anaconda3\\lib\\site-packages (from nltk) (1.4.2)\n",
      "Requirement already satisfied: regex>=2021.8.3 in c:\\users\\admin\\anaconda3\\lib\\site-packages (from nltk) (2024.9.11)\n",
      "Requirement already satisfied: tqdm in c:\\users\\admin\\anaconda3\\lib\\site-packages (from nltk) (4.66.5)\n",
      "Requirement already satisfied: colorama in c:\\users\\admin\\anaconda3\\lib\\site-packages (from click->nltk) (0.4.6)\n"
     ]
    }
   ],
   "source": [
    "!pip install nltk"
   ]
  },
  {
   "cell_type": "code",
   "execution_count": 5,
   "id": "6476d986-70e6-4135-988d-305fb0c1b512",
   "metadata": {},
   "outputs": [
    {
     "name": "stderr",
     "output_type": "stream",
     "text": [
      "[nltk_data] Downloading package punkt to\n",
      "[nltk_data]     C:\\Users\\Admin\\AppData\\Roaming\\nltk_data...\n",
      "[nltk_data]   Package punkt is already up-to-date!\n",
      "[nltk_data] Downloading package stopwords to\n",
      "[nltk_data]     C:\\Users\\Admin\\AppData\\Roaming\\nltk_data...\n",
      "[nltk_data]   Package stopwords is already up-to-date!\n",
      "[nltk_data] Downloading package wordnet to\n",
      "[nltk_data]     C:\\Users\\Admin\\AppData\\Roaming\\nltk_data...\n",
      "[nltk_data]   Package wordnet is already up-to-date!\n",
      "[nltk_data] Downloading package averaged_perceptron_tagger to\n",
      "[nltk_data]     C:\\Users\\Admin\\AppData\\Roaming\\nltk_data...\n",
      "[nltk_data]   Package averaged_perceptron_tagger is already up-to-\n",
      "[nltk_data]       date!\n",
      "[nltk_data] Downloading package punkt_tab to\n",
      "[nltk_data]     C:\\Users\\Admin\\AppData\\Roaming\\nltk_data...\n",
      "[nltk_data]   Package punkt_tab is already up-to-date!\n",
      "[nltk_data] Downloading package averaged_perceptron_tagger_eng to\n",
      "[nltk_data]     C:\\Users\\Admin\\AppData\\Roaming\\nltk_data...\n",
      "[nltk_data]   Package averaged_perceptron_tagger_eng is already up-to-\n",
      "[nltk_data]       date!\n"
     ]
    },
    {
     "data": {
      "text/plain": [
       "True"
      ]
     },
     "execution_count": 5,
     "metadata": {},
     "output_type": "execute_result"
    }
   ],
   "source": [
    "import nltk\n",
    "from nltk.tokenize import sent_tokenize, word_tokenize\n",
    "from nltk.corpus import stopwords\n",
    "from nltk.stem import PorterStemmer\n",
    "from nltk.stem import WordNetLemmatizer\n",
    "from nltk import pos_tag\n",
    "\n",
    "# Ensure you have the required NLTK data packages\n",
    "nltk.download('punkt')\n",
    "nltk.download('stopwords')\n",
    "nltk.download('wordnet')\n",
    "nltk.download('averaged_perceptron_tagger')\n",
    "nltk.download('punkt_tab')\n",
    "nltk.download('averaged_perceptron_tagger_eng')"
   ]
  },
  {
   "cell_type": "code",
   "execution_count": 8,
   "id": "484d75da-183a-4253-a75c-715e753ab988",
   "metadata": {},
   "outputs": [
    {
     "name": "stdout",
     "output_type": "stream",
     "text": [
      "\n",
      "Multivariate Linear Regression\" and \"Multiple Linear Regression\" usually confer the same concept in the context of linear regression modeling. Both terms describe a linear regression version in which you have multiple impartial variables (features) used to expect a single structured variable (target). In different phrases, each phrase means a linear regression version with more than one predictor variable\n",
      "\n"
     ]
    }
   ],
   "source": [
    "# Provided text\n",
    "text = \"\"\"\n",
    "Multivariate Linear Regression\" and \"Multiple Linear Regression\" usually confer the same concept in the context of linear regression modeling. Both terms describe a linear regression version in which you have multiple impartial variables (features) used to expect a single structured variable (target). In different phrases, each phrase means a linear regression version with more than one predictor variable\n",
    "\"\"\"\n",
    "print(text)"
   ]
  },
  {
   "cell_type": "code",
   "execution_count": 10,
   "id": "49293aa0-1134-4f1b-a011-dd5072a5a0c5",
   "metadata": {},
   "outputs": [
    {
     "name": "stdout",
     "output_type": "stream",
     "text": [
      "['multivariate', 'linear', 'regression', \"''\", 'and', '``', 'multiple', 'linear', 'regression', \"''\", 'usually', 'confer', 'the', 'same', 'concept', 'in', 'the', 'context', 'of', 'linear', 'regression', 'modeling', '.', 'both', 'terms', 'describe', 'a', 'linear', 'regression', 'version', 'in', 'which', 'you', 'have', 'multiple', 'impartial', 'variables', '(', 'features', ')', 'used', 'to', 'expect', 'a', 'single', 'structured', 'variable', '(', 'target', ')', '.', 'in', 'different', 'phrases', ',', 'each', 'phrase', 'means', 'a', 'linear', 'regression', 'version', 'with', 'more', 'than', 'one', 'predictor', 'variable']\n"
     ]
    }
   ],
   "source": [
    "# Tokenization of words\n",
    "words = word_tokenize(text.lower())  # Convert to lowercase for uniformity\n",
    "print(words)"
   ]
  },
  {
   "cell_type": "code",
   "execution_count": 12,
   "id": "21e7e3b0-6a46-4364-a8ab-541c13212d1e",
   "metadata": {},
   "outputs": [
    {
     "name": "stdout",
     "output_type": "stream",
     "text": [
      "['multivariate', 'linear', 'regression', 'multiple', 'linear', 'regression', 'usually', 'confer', 'concept', 'context', 'linear', 'regression', 'modeling', 'terms', 'describe', 'linear', 'regression', 'version', 'multiple', 'impartial', 'variables', 'features', 'used', 'expect', 'single', 'structured', 'variable', 'target', 'different', 'phrases', 'phrase', 'means', 'linear', 'regression', 'version', 'one', 'predictor', 'variable']\n"
     ]
    }
   ],
   "source": [
    "# Remove stopwords\n",
    "stop_words = set(stopwords.words('english'))\n",
    "filtered_words = [word for word in words if word.isalpha() and word not in stop_words]\n",
    "# The general syntax for a list comprehension is: [expression for item in iterable if condition]\n",
    "print(filtered_words)"
   ]
  }
 ],
 "metadata": {
  "kernelspec": {
   "display_name": "Python [conda env:base] *",
   "language": "python",
   "name": "conda-base-py"
  },
  "language_info": {
   "codemirror_mode": {
    "name": "ipython",
    "version": 3
   },
   "file_extension": ".py",
   "mimetype": "text/x-python",
   "name": "python",
   "nbconvert_exporter": "python",
   "pygments_lexer": "ipython3",
   "version": "3.12.7"
  }
 },
 "nbformat": 4,
 "nbformat_minor": 5
}
