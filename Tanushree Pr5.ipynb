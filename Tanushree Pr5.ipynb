{
 "cells": [
  {
   "cell_type": "code",
   "execution_count": 1,
   "id": "b23463b3-7bb4-4794-91cb-71c9d9e5db2d",
   "metadata": {},
   "outputs": [
    {
     "name": "stdout",
     "output_type": "stream",
     "text": [
      "Empty DataFrame\n",
      "Columns: [match_id, inning, batting_team, bowling_team, over, ball, batter, bowler, non_striker, batsman_runs, extra_runs, total_runs, extras_type, is_wicket, player_dismissed, dismissal_kind, fielder]\n",
      "Index: []\n"
     ]
    }
   ],
   "source": [
    "import pandas as pd  \n",
    "data= \"ipl_matches_smalldata.csv\"  \n",
    "df = pd.read_csv(data)  \n",
    "players_above_500 = df[df['total_runs'] > 500] \n",
    "print(players_above_500)"
   ]
  },
  {
   "cell_type": "code",
   "execution_count": null,
   "id": "53fbd603-887e-497f-985b-ef79f93a036e",
   "metadata": {},
   "outputs": [],
   "source": []
  }
 ],
 "metadata": {
  "kernelspec": {
   "display_name": "Python [conda env:base] *",
   "language": "python",
   "name": "conda-base-py"
  },
  "language_info": {
   "codemirror_mode": {
    "name": "ipython",
    "version": 3
   },
   "file_extension": ".py",
   "mimetype": "text/x-python",
   "name": "python",
   "nbconvert_exporter": "python",
   "pygments_lexer": "ipython3",
   "version": "3.12.7"
  }
 },
 "nbformat": 4,
 "nbformat_minor": 5
}
