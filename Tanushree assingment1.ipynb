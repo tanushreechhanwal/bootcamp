{
 "cells": [
  {
   "cell_type": "code",
   "execution_count": 9,
   "id": "0a0baeae-c84b-46bd-a95e-a4dacbb75b4b",
   "metadata": {},
   "outputs": [
    {
     "name": "stdout",
     "output_type": "stream",
     "text": [
      "My name is tanushree\n",
      "eerhsunat si eman yM\n"
     ]
    }
   ],
   "source": [
    "#this is the program for to  print string in reverse order\n",
    "str = \"My name is tanushree\"\n",
    "print (str)\n",
    "rev_str = str [::-1]\n",
    "print(rev_str)"
   ]
  },
  {
   "cell_type": "code",
   "execution_count": 7,
   "id": "8f7e3e3c-e225-4f33-88be-22c89f05fb44",
   "metadata": {},
   "outputs": [
    {
     "name": "stdout",
     "output_type": "stream",
     "text": [
      "Random Numbers: [74, 77, 100, 59, 48, 59, 11, 35, 50, 36, 13, 92, 22, 26, 24, 26, 1, 79, 32, 37]\n",
      "even Numbers: [74, 100, 48, 50, 36, 92, 22, 26, 24, 26, 32]\n"
     ]
    }
   ],
   "source": [
    "#this is the program for to pick random number and even number\n",
    "import random\n",
    "random_numbers = [random.randint(1,100) for _ in range (20)]\n",
    "print(\"Random Numbers:\" , random_numbers)\n",
    "even_number = [num for num in random_numbers if num % 2==0]\n",
    "print(\"even Numbers:\", even_number)"
   ]
  },
  {
   "cell_type": "code",
   "execution_count": null,
   "id": "72fec418-fc32-4fc7-ad46-f80696fdd9c2",
   "metadata": {},
   "outputs": [],
   "source": []
  }
 ],
 "metadata": {
  "kernelspec": {
   "display_name": "Python [conda env:base] *",
   "language": "python",
   "name": "conda-base-py"
  },
  "language_info": {
   "codemirror_mode": {
    "name": "ipython",
    "version": 3
   },
   "file_extension": ".py",
   "mimetype": "text/x-python",
   "name": "python",
   "nbconvert_exporter": "python",
   "pygments_lexer": "ipython3",
   "version": "3.12.7"
  }
 },
 "nbformat": 4,
 "nbformat_minor": 5
}
